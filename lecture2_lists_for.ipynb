{
 "cells": [
  {
   "cell_type": "markdown",
   "metadata": {},
   "source": [
    "Основы программирования в Python\n",
    "\n",
    "# Cписки и базовые методы списков. Наполнение и изменение списка посредством цикла for\n",
    "\n",
    "*Лекция подготовлена на основе материалов [курса](https://nbviewer.jupyter.org/github/allatambov/Py-programming-3/blob/master/16-04/lecture-lists.ipynb) Аллы Тамбовцевой и [курса](https://github.com/rogovich/2020_CPK_Python_for_Data_Analysis-2/blob/master/02_Strings_Lists_Tuples/2020_CPK_2_2_List_Tuple.ipynb) Татьяны Рогович*\n",
    "\n",
    "По названию понятно, для чего нужны списки. Списки содержат какую-то информацию. В питоне тоже можно записывать информацию в место, где она будет храниться. Если говорить более формально, то мы начинаем знакомиться со структурами даннных, у каждой из них есть свои особенности, плюсы/минусы, сферы применения и т.д. Списки - лишь небольшая часть того, как могут храниться данные в питоне.\n",
    "\n",
    "Создадим наш первый список и назовем его `numbers`. Для создания списка достаточно в квадратных скобках перечислить элементы, которые мы хотим сохранить.\n",
    "\n"
   ]
  },
  {
   "cell_type": "code",
   "execution_count": 1,
   "metadata": {},
   "outputs": [],
   "source": [
    "numbers = [42, 16, 5, 93, 0, 42, 135]"
   ]
  },
  {
   "cell_type": "markdown",
   "metadata": {},
   "source": [
    "В списках можно хранить не только численные значения, но и строки, а еще можно сохранять и то и другое. Также в списках можно хранить другие списки. Давайте создадим список `info`, где сохраним имя и возраст студента, а также его расписание на понедельник. "
   ]
  },
  {
   "cell_type": "code",
   "execution_count": 2,
   "metadata": {},
   "outputs": [],
   "source": [
    "info = [\"Петя\", 19, [\"Политическая история\", \"Категории политической науки\", \"Микроэкономика\"]]"
   ]
  },
  {
   "cell_type": "markdown",
   "metadata": {},
   "source": [
    "Давайте посмотрим на тип данных, который сохранился в переменной `info`."
   ]
  },
  {
   "cell_type": "code",
   "execution_count": 3,
   "metadata": {},
   "outputs": [
    {
     "data": {
      "text/plain": [
       "list"
      ]
     },
     "execution_count": 3,
     "metadata": {},
     "output_type": "execute_result"
    }
   ],
   "source": [
    "type(info)"
   ]
  },
  {
   "cell_type": "markdown",
   "metadata": {},
   "source": [
    "Мы имеем дело с типом переменной `list`, то есть со списком.\n",
    "\n",
    "Мы можем проверить длину списка, другими словами количство элементов в нем, с помощью функции `len`. Длина пустых списков равно нулю."
   ]
  },
  {
   "cell_type": "code",
   "execution_count": 4,
   "metadata": {},
   "outputs": [
    {
     "data": {
      "text/plain": [
       "7"
      ]
     },
     "execution_count": 4,
     "metadata": {},
     "output_type": "execute_result"
    }
   ],
   "source": [
    "len(numbers)"
   ]
  },
  {
   "cell_type": "markdown",
   "metadata": {},
   "source": [
    "*А какая длина у списка* `info`?\n",
    "\n",
    "Мы можем \"вытаскивать\" элементы из списка по номеру его позиции. Одно важное замечание: нумерация в питоне начинается с нуля. Давайте обратимся к первому элементу списка `numbers`."
   ]
  },
  {
   "cell_type": "code",
   "execution_count": 5,
   "metadata": {},
   "outputs": [
    {
     "data": {
      "text/plain": [
       "42"
      ]
     },
     "execution_count": 5,
     "metadata": {},
     "output_type": "execute_result"
    }
   ],
   "source": [
    "numbers[0]"
   ]
  },
  {
   "cell_type": "markdown",
   "metadata": {},
   "source": [
    "Обратиться к последнему элемента списка можно следующим образом"
   ]
  },
  {
   "cell_type": "code",
   "execution_count": 6,
   "metadata": {},
   "outputs": [
    {
     "data": {
      "text/plain": [
       "135"
      ]
     },
     "execution_count": 6,
     "metadata": {},
     "output_type": "execute_result"
    }
   ],
   "source": [
    "numbers[-1]"
   ]
  },
  {
   "cell_type": "markdown",
   "metadata": {},
   "source": [
    "Как вы могли догадаться обращаться к элементам с конца можно с помощью отрицательных индексов. \n",
    "\n",
    "Также у нас есть возможность обращаться к нескольким элементам списка подряд с помощью срезов (slices). Рассмотрим несколько примеров."
   ]
  },
  {
   "cell_type": "code",
   "execution_count": 7,
   "metadata": {},
   "outputs": [
    {
     "name": "stdout",
     "output_type": "stream",
     "text": [
      "[42, 16, 5, 93, 0, 42, 135]\n",
      "[42, 16, 5]\n",
      "[42, 16, 5]\n",
      "[93, 0, 42, 135]\n"
     ]
    }
   ],
   "source": [
    "print(numbers)      # выводим весь список\n",
    "print(numbers[0:3]) # элементы с первого по третий\n",
    "print(numbers[:3])  # элементы с первого по третий\n",
    "print(numbers[3:])  # элементы с третьего по последний"
   ]
  },
  {
   "cell_type": "markdown",
   "metadata": {},
   "source": [
    "Работает это так: срез берется по правилу list[`начало`:`конец`], при этом правый конец не включается. Для получения конца или начала среза соответствующие индексы можно опустить. \n",
    "\n",
    "Также в питоне имеется возможность брать более причудливые последовательности из списков. Вот так мы можем записать элементы списка в обратном порядке"
   ]
  },
  {
   "cell_type": "code",
   "execution_count": 8,
   "metadata": {},
   "outputs": [
    {
     "data": {
      "text/plain": [
       "[135, 42, 0, 93, 5, 16, 42]"
      ]
     },
     "execution_count": 8,
     "metadata": {},
     "output_type": "execute_result"
    }
   ],
   "source": [
    "numbers[::-1]"
   ]
  },
  {
   "cell_type": "markdown",
   "metadata": {},
   "source": [
    "а так взять каждый второй элемент, начиная с первого"
   ]
  },
  {
   "cell_type": "code",
   "execution_count": 9,
   "metadata": {},
   "outputs": [
    {
     "data": {
      "text/plain": [
       "[42, 5, 0, 135]"
      ]
     },
     "execution_count": 9,
     "metadata": {},
     "output_type": "execute_result"
    }
   ],
   "source": [
    "numbers[::2]"
   ]
  },
  {
   "cell_type": "markdown",
   "metadata": {},
   "source": [
    "А так каждый второй, начиная со второго\n"
   ]
  },
  {
   "cell_type": "code",
   "execution_count": 10,
   "metadata": {},
   "outputs": [
    {
     "data": {
      "text/plain": [
       "[16, 93, 42]"
      ]
     },
     "execution_count": 10,
     "metadata": {},
     "output_type": "execute_result"
    }
   ],
   "source": [
    "numbers[1::2]"
   ]
  },
  {
   "cell_type": "markdown",
   "metadata": {},
   "source": [
    "А так мы можем взять каждый второй элемент в срезе со второго по пятый элемент"
   ]
  },
  {
   "cell_type": "code",
   "execution_count": 11,
   "metadata": {},
   "outputs": [
    {
     "data": {
      "text/plain": [
       "[16, 93]"
      ]
     },
     "execution_count": 11,
     "metadata": {},
     "output_type": "execute_result"
    }
   ],
   "source": [
    "numbers[1:5:2]"
   ]
  },
  {
   "cell_type": "markdown",
   "metadata": {},
   "source": [
    "Скорее всего, вы уже догадались, что конструкция взятия среза обогащается. Теперь она выглядит вот так: list[`начало`:`конец`:`очередность`]\n",
    "\n",
    "Теперь мы знаем как найти нужный элемент в списке, но функционал списков намного шире. В жизни мы часто вносим изменения в списки: вычеркиваем ненужное, записываем новые пункты, изменяем старые. Давайте посмотрим как это делается в питоне. Для начала посмотрим, как можно изменять записи в списке. Заменим в списке `numbers` первый элемент на -1."
   ]
  },
  {
   "cell_type": "code",
   "execution_count": 12,
   "metadata": {},
   "outputs": [
    {
     "name": "stdout",
     "output_type": "stream",
     "text": [
      "было: [42, 16, 5, 93, 0, 42, 135]\n",
      "стало: [-1, 16, 5, 93, 0, 42, 135]\n"
     ]
    }
   ],
   "source": [
    "print(\"было:\", numbers)\n",
    "numbers[0] = -1\n",
    "print(\"стало:\", numbers)"
   ]
  },
  {
   "cell_type": "markdown",
   "metadata": {},
   "source": [
    "Для того чтобы добавить новые элементы в список нам пригодятся функции `.append()` и `.extend()`. `.append()` добавляет в список один новый элемент, а `.extend()` присоединяет к исходному списку новый."
   ]
  },
  {
   "cell_type": "code",
   "execution_count": 13,
   "metadata": {},
   "outputs": [
    {
     "name": "stdout",
     "output_type": "stream",
     "text": [
      "[-1, 16, 5, 93, 0, 42, 135, 1]\n"
     ]
    }
   ],
   "source": [
    "numbers.append(1)\n",
    "print(numbers)"
   ]
  },
  {
   "cell_type": "code",
   "execution_count": 14,
   "metadata": {},
   "outputs": [
    {
     "name": "stdout",
     "output_type": "stream",
     "text": [
      "[-1, 16, 5, 93, 0, 42, 135, 1, 4, 2]\n"
     ]
    }
   ],
   "source": [
    "numbers.extend([4, 2])\n",
    "print(numbers)"
   ]
  },
  {
   "cell_type": "markdown",
   "metadata": {},
   "source": [
    "Стоит отметить, что результат выполнения этих двух функций нам не нужно записывать в новую переменную или пересохранять, все происходит в нутри исходного списка (inplace). Если же мы хотим вставить новые значения в список, то для это нужно использовать функцию  `insert()`. Работает она следующим образом: первым аргументом мы подаем значение индекса, где должен стоятть новый элемент, вторым аргументом подается нужное значение."
   ]
  },
  {
   "cell_type": "code",
   "execution_count": 15,
   "metadata": {},
   "outputs": [
    {
     "data": {
      "text/plain": [
       "[-1, 16, 5, 2, 93, 0, 42, 135, 1, 4, 2]"
      ]
     },
     "execution_count": 15,
     "metadata": {},
     "output_type": "execute_result"
    }
   ],
   "source": [
    "numbers.insert(3, 2)\n",
    "numbers"
   ]
  },
  {
   "cell_type": "markdown",
   "metadata": {},
   "source": [
    "Чтобы посмотреть какой индекс у того или иного элемента, мы можем воспользоваться функцией `index()`"
   ]
  },
  {
   "cell_type": "code",
   "execution_count": 16,
   "metadata": {},
   "outputs": [
    {
     "data": {
      "text/plain": [
       "1"
      ]
     },
     "execution_count": 16,
     "metadata": {},
     "output_type": "execute_result"
    }
   ],
   "source": [
    "numbers.index(16)"
   ]
  },
  {
   "cell_type": "markdown",
   "metadata": {},
   "source": [
    "**Внимание:** если элемент повторяется в списке, то функция `index()` вернет результат первого вхождения. \n",
    "\n",
    "Если возникла необходимость удалить элемент из списка, то можно воспользоваться функцией `remove()` или `pop()`. Обе функции удаляют первое вхождение элемента, разница в том, что `pop()` принимает на вход индекс элемента, удаляет элемент с заданным индексом из списка, а затем ввозвращает его. Пример:"
   ]
  },
  {
   "cell_type": "code",
   "execution_count": 17,
   "metadata": {},
   "outputs": [
    {
     "name": "stdout",
     "output_type": "stream",
     "text": [
      "[-1, 16, 5, 2, 93, 0, 42, 135, 4, 2] \n",
      "\n"
     ]
    },
    {
     "data": {
      "text/plain": [
       "5"
      ]
     },
     "execution_count": 17,
     "metadata": {},
     "output_type": "execute_result"
    }
   ],
   "source": [
    "numbers.remove(1) # удаляем единицу, больше ничего не происходит\n",
    "print(numbers, '\\n')\n",
    "\n",
    "numbers.pop(2)"
   ]
  },
  {
   "cell_type": "markdown",
   "metadata": {},
   "source": [
    "Все элементы списка позволит удалить функция `clear()`."
   ]
  },
  {
   "cell_type": "code",
   "execution_count": 18,
   "metadata": {},
   "outputs": [
    {
     "data": {
      "text/plain": [
       "[]"
      ]
     },
     "execution_count": 18,
     "metadata": {},
     "output_type": "execute_result"
    }
   ],
   "source": [
    "numbers.clear()\n",
    "numbers"
   ]
  },
  {
   "cell_type": "markdown",
   "metadata": {},
   "source": [
    "На данный момент мы достаточно хорошо познакомились со списками. Но списки не так просты, как кажется. Давайте попробуем сделать следующее: скопировать один список в другой путем присваивания."
   ]
  },
  {
   "cell_type": "code",
   "execution_count": 19,
   "metadata": {},
   "outputs": [
    {
     "name": "stdout",
     "output_type": "stream",
     "text": [
      "[1, 8, 9, 4]\n",
      "[1, 8, 9, 4]\n"
     ]
    }
   ],
   "source": [
    "l1 = [1, 8, 9, 4]\n",
    "l2 = l1 # сохранили список l1 в l2\n",
    "\n",
    "print(l1)\n",
    "print(l2)"
   ]
  },
  {
   "cell_type": "markdown",
   "metadata": {},
   "source": [
    "Пока все ожидаемо. Теперь изменим элемент списка l2 с индексом 3:"
   ]
  },
  {
   "cell_type": "code",
   "execution_count": 20,
   "metadata": {},
   "outputs": [
    {
     "name": "stdout",
     "output_type": "stream",
     "text": [
      "[1, 8, 9, 5]\n"
     ]
    }
   ],
   "source": [
    "l2[3] = 5\n",
    "print(l2)"
   ]
  },
  {
   "cell_type": "markdown",
   "metadata": {},
   "source": [
    "А теперь посмотрим на список l1."
   ]
  },
  {
   "cell_type": "code",
   "execution_count": 21,
   "metadata": {},
   "outputs": [
    {
     "name": "stdout",
     "output_type": "stream",
     "text": [
      "[1, 8, 9, 5]\n"
     ]
    }
   ],
   "source": [
    "print(l1)"
   ]
  },
  {
   "cell_type": "markdown",
   "metadata": {},
   "source": [
    "Несмотря на то, что список l1 мы не трогали, он изменился точно так же, как и список l2! Что произошло? На самом деле, когда мы записали l2 = l1, мы скопировали не сам список, а ссылку на него. Другими словами, проводя аналогию с папкой и ярлыком, вместо того, чтобы создать новую папку l2 с элементами, такими же, как в l1, мы создали ярлык l2, который сам по себе ничего не представляет, а просто ссылается на папку l1.\n",
    "\n",
    "Так как же тогда копировать списки? Во-первых, у списков есть метод copy()."
   ]
  },
  {
   "cell_type": "code",
   "execution_count": 22,
   "metadata": {},
   "outputs": [
    {
     "name": "stdout",
     "output_type": "stream",
     "text": [
      "[1, 8, 9, 4]\n",
      "[1, 8, 9, 100]\n"
     ]
    }
   ],
   "source": [
    "# дубль два\n",
    "l1 = [1, 8, 9, 4]\n",
    "l2 = l1.copy()\n",
    "\n",
    "# теперь делаем что угодно\n",
    "\n",
    "l2[3] = 100\n",
    "\n",
    "print(l1)\n",
    "print(l2) # все нормально"
   ]
  },
  {
   "cell_type": "markdown",
   "metadata": {},
   "source": [
    "Во-вторых, можно сделать срез и \"срезать\" весь список:"
   ]
  },
  {
   "cell_type": "code",
   "execution_count": 23,
   "metadata": {},
   "outputs": [
    {
     "name": "stdout",
     "output_type": "stream",
     "text": [
      "[1, 8, 9, 4]\n",
      "[1, 8, 9, 100]\n"
     ]
    }
   ],
   "source": [
    "# дубль три\n",
    "\n",
    "l1 = [1, 8, 9, 4]\n",
    "l2 = l1[:] # полный срез\n",
    "\n",
    "# теперь делаем что угодно\n",
    "\n",
    "l2[3] = 100\n",
    "\n",
    "print(l1)\n",
    "print(l2) # все нормально"
   ]
  },
  {
   "cell_type": "markdown",
   "metadata": {},
   "source": [
    "\n",
    "------\n",
    "Здесь оставим краткое обобщение по основным методам и функциям списков в питоне.\n",
    "\n",
    "* `len()` -- длина массива\n",
    "* `append()`/`extend()` -- добавляем новые элементы\n",
    "* `insert()` -- вставляем элементы по индексу\n",
    "* `count()` -- подсчитываем количество вхождений в массив\n",
    "* `index()` -- получаем индекс искомого элемента\n",
    "* `remove()`/`pop()`/`clear()` -- удаляем элементы\n",
    "* `copy()` -- создаем копию массива\n",
    "-------\n",
    "\n",
    "Также в питоне есть тип данных кортеж. Единственное его отличие от списков заключается в том, что кортеж нельзя изменять. Кортеж задается круглыми скобочками. "
   ]
  },
  {
   "cell_type": "code",
   "execution_count": 24,
   "metadata": {},
   "outputs": [
    {
     "ename": "TypeError",
     "evalue": "'tuple' object does not support item assignment",
     "output_type": "error",
     "traceback": [
      "\u001b[0;31m---------------------------------------------------------------------------\u001b[0m",
      "\u001b[0;31mTypeError\u001b[0m                                 Traceback (most recent call last)",
      "\u001b[0;32m<ipython-input-24-f55babca9dc2>\u001b[0m in \u001b[0;36m<module>\u001b[0;34m\u001b[0m\n\u001b[1;32m      1\u001b[0m \u001b[0mmy_tuple\u001b[0m \u001b[0;34m=\u001b[0m \u001b[0;34m(\u001b[0m\u001b[0;36m1\u001b[0m\u001b[0;34m,\u001b[0m \u001b[0;36m2\u001b[0m\u001b[0;34m,\u001b[0m \u001b[0;36m3\u001b[0m\u001b[0;34m)\u001b[0m\u001b[0;34m\u001b[0m\u001b[0;34m\u001b[0m\u001b[0m\n\u001b[0;32m----> 2\u001b[0;31m \u001b[0mmy_tuple\u001b[0m\u001b[0;34m[\u001b[0m\u001b[0;36m0\u001b[0m\u001b[0;34m]\u001b[0m \u001b[0;34m=\u001b[0m \u001b[0;36m0\u001b[0m \u001b[0;31m# не получится\u001b[0m\u001b[0;34m\u001b[0m\u001b[0;34m\u001b[0m\u001b[0m\n\u001b[0m",
      "\u001b[0;31mTypeError\u001b[0m: 'tuple' object does not support item assignment"
     ]
    }
   ],
   "source": [
    "my_tuple = (1, 2, 3)\n",
    "my_tuple[0] = 0 # не получится"
   ]
  },
  {
   "cell_type": "markdown",
   "metadata": {},
   "source": [
    "## Цикл for\n",
    "\n",
    "Для выполнения однообразных задач в различных языках программирования предусмотрены циклы.\n",
    "\n",
    "Питон не является исключением. На лекции мы познакомились с вами с функцией `range()`, которая генерирует необходимую последовательность. Работает она так, как работают срезы: первый аргумент начало последовательности, второй -- конец последовательности, третий -- через сколько элементов перескакиваем. Сама функция возвращает на что-то непонятное. Давайте создадим последовательность от 0 до 10."
   ]
  },
  {
   "cell_type": "code",
   "execution_count": 25,
   "metadata": {},
   "outputs": [
    {
     "data": {
      "text/plain": [
       "range(0, 11)"
      ]
     },
     "execution_count": 25,
     "metadata": {},
     "output_type": "execute_result"
    }
   ],
   "source": [
    "range(11) # если подаем только один аргумент, то получаем последовательность от 0 до нужного числа"
   ]
  },
  {
   "cell_type": "markdown",
   "metadata": {},
   "source": [
    "Преобразовать такое в список можно просто объявив последовательность списком"
   ]
  },
  {
   "cell_type": "code",
   "execution_count": 26,
   "metadata": {},
   "outputs": [
    {
     "data": {
      "text/plain": [
       "[0, 1, 2, 3, 4, 5, 6, 7, 8, 9, 10]"
      ]
     },
     "execution_count": 26,
     "metadata": {},
     "output_type": "execute_result"
    }
   ],
   "source": [
    "list(range(11))"
   ]
  },
  {
   "cell_type": "markdown",
   "metadata": {},
   "source": [
    "Для чего может быть полезен `range()`? Если мы хотим пройтись по каждому элементу списка, то можно воспользоваться последовательностью из индексов. Давайте создадим цикл, который печатает числа от 0 до 10"
   ]
  },
  {
   "cell_type": "code",
   "execution_count": 27,
   "metadata": {},
   "outputs": [
    {
     "name": "stdout",
     "output_type": "stream",
     "text": [
      "0\n",
      "1\n",
      "2\n",
      "3\n",
      "4\n",
      "5\n",
      "6\n",
      "7\n",
      "8\n",
      "9\n",
      "10\n"
     ]
    }
   ],
   "source": [
    "for i in range(11): # здесь пишем, по чему итерируемся\n",
    "    print(i) # а здесь пишем, что делаем (тело цикла)"
   ]
  },
  {
   "cell_type": "markdown",
   "metadata": {},
   "source": [
    "В целом конструкция построения цикла проста, но не стоит забывать об отступах. Теперь давайте возьмем наш список `numbers` и сохраним его значения, возведенные в квадрат, в переменную `sq`"
   ]
  },
  {
   "cell_type": "code",
   "execution_count": 28,
   "metadata": {},
   "outputs": [
    {
     "name": "stdout",
     "output_type": "stream",
     "text": [
      "[42, 16, 5, 93, 0, 42, 135]\n",
      "[1764, 256, 25, 8649, 0, 1764, 18225]\n"
     ]
    }
   ],
   "source": [
    "numbers = [42, 16, 5, 93, 0, 42, 135]\n",
    "sq = [] # пока список пуст, будем поэлементно его заполнять\n",
    "for i in range(len(numbers)): # вместо i можем прописывать любую переменную для итераций\n",
    "    sq.append(numbers[i]**2)\n",
    "print(numbers, sq, sep='\\n')"
   ]
  },
  {
   "cell_type": "markdown",
   "metadata": {},
   "source": [
    "Давайте пропишем логику пошагово еще раз\n",
    "\n",
    "1. Создаем пустой список для поочередного заполнения новыми элементами (не внутри цикла, иначе он каждый раз будет обновляться до пустого на каждой итерации)\n",
    "2. В условии цикла прописываем, по каким переменным мы итерируемся. В данном примере по всем индексам списка `numbers`\n",
    "3. В теле цикла прописываем действие,которое будет повторяться. Мы добавляем i-ый элемент `numbers` в квадрате в список `sq`  \n",
    "\n",
    "Если с написанием циклов возникают проблемы, то попробуйте посмотреть на то, что выводит просто `range()` и попробовать совершить первые итерации руками.\n",
    "\n",
    "Также стоит отметить, что в питоне можно итерироваться сразу по элементам списка. Предыдущую задачу можно сделать вот так"
   ]
  },
  {
   "cell_type": "code",
   "execution_count": 29,
   "metadata": {},
   "outputs": [
    {
     "name": "stdout",
     "output_type": "stream",
     "text": [
      "[42, 16, 5, 93, 0, 42, 135]\n",
      "[1764, 256, 25, 8649, 0, 1764, 18225]\n"
     ]
    }
   ],
   "source": [
    "sq = [] \n",
    "for number in numbers: \n",
    "    sq.append(number**2)\n",
    "print(numbers, sq, sep='\\n')"
   ]
  },
  {
   "cell_type": "markdown",
   "metadata": {},
   "source": [
    "В данном примере мы обращались напрямую к элементам. Для наглядности мы можем просто вывести их на экран циклом."
   ]
  },
  {
   "cell_type": "code",
   "execution_count": 30,
   "metadata": {},
   "outputs": [
    {
     "name": "stdout",
     "output_type": "stream",
     "text": [
      "42\n",
      "16\n",
      "5\n",
      "93\n",
      "0\n",
      "42\n",
      "135\n"
     ]
    }
   ],
   "source": [
    "for number in numbers:\n",
    "    print(number)"
   ]
  }
 ],
 "metadata": {
  "kernelspec": {
   "display_name": "Python 3",
   "language": "python",
   "name": "python3"
  },
  "language_info": {
   "codemirror_mode": {
    "name": "ipython",
    "version": 3
   },
   "file_extension": ".py",
   "mimetype": "text/x-python",
   "name": "python",
   "nbconvert_exporter": "python",
   "pygments_lexer": "ipython3",
   "version": "3.7.6"
  }
 },
 "nbformat": 4,
 "nbformat_minor": 4
}
