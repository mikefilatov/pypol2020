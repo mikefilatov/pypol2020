{
 "cells": [
  {
   "cell_type": "markdown",
   "metadata": {},
   "source": [
    "## Домашнее задание №3\n",
    "\n",
    "*Формат задания и некоторые задачи заимствованы из [домашнего задания](http://nbviewer.jupyter.org/url/python.math-hse.info/static/assignments_release/dj2017/ps02/ps02.ipynb) по [курсу](http://math-info.hse.ru/s17/1) «Введение в программирование» (Магистерская программа «Журналистика данных», НИУ ВШЭ, 2017-18). *\n",
    "\n",
    "За разные задачи можно получить разное число баллов. Если не указано обратное, задача весит 1 балл. Максимум за ДЗ можно набрать 9 баллов. Вы можете решить больше задач, чем требуется, чтобы потренироваться.\n",
    "\n",
    "Для предварительной проверки задания нужно сделать следующее:\n",
    "\n",
    "1. Скачать данный `ipynb`-файл на свой компьютер, открыть его в IPython Notebook/Jupyter.\n",
    "2. Активировать тесты (см. ниже).\n",
    "3. Вставить решение каждой задачи в ячейку для кода, следующую за его условием, там, где написан комментарий `# YOUR CODE HERE`. Отступ вашего кода должен составлять 4 пробела. Ничего не менять вокруг!\n",
    "4. Запустить ячейку, в которую вы вставили код с решением. Ввести какие-то входные данные, проверить визуально правильность вывода.\n",
    "5. Запустить следующую ячейку (в ней содержится тест). Если запуск ячейки с тестом не приводит к появлению ошибки (assertion), значит, всё в порядке, задача решена. Если приводит к появлению ошибки, значит, тест не пройден и нужно искать ошибку.\n",
    "\n",
    "**Внимание!** Если в какой-то момент забыть ввести входные данные и перейти на следующую ячейку, есть риск, что Notebook перестанет откликаться. В этом случае надо перезапустить ядро: *Kernel → Restart*. При этом потеряются все значения переменных, но сам код останется.\n"]
  },
  {
   "cell_type": "markdown",
   "metadata": {},
   "source": [
    "### Активировать тесты\n",
    "Запустите следующие ячейку, чтобы иметь возможность запускать тесты. Эту операцию нужно проделывать каждый раз, когда вы перезапускаете ядро. Если какой-то из тестов говорит `NameError: name 'Tester' is not defined`, нужно запустить эту ячейку ещё раз."
   ]
  },
  {
   "cell_type": "code",
   "execution_count": null,
   "metadata": {},
   "outputs": [],
   "source": [
    "# Фабрика тестов для проверки программ, принимающих данные через input()\n",
    "\n",
    "from collections import deque\n",
    "\n",
    "class Tester(object):\n",
    "    def __init__(self, inp):\n",
    "        self.outputs = []\n",
    "        self.inputs = deque(inp)\n",
    "    def print(self, *args, sep = \" \", end = \"\\n\"):\n",
    "        text = sep.join(map(str, args)) + end\n",
    "        newlines = text.splitlines(keepends=True)\n",
    "        if self.outputs and self.outputs[-1] and self.outputs[-1][-1] != \"\\n\" and newlines:\n",
    "            self.outputs[-1] += newlines[0]\n",
    "            self.outputs.extend(newlines[1:])\n",
    "        else:\n",
    "            self.outputs.extend(newlines)\n",
    "            \n",
    "    def input(self, *args):\n",
    "        assert self.inputs, \"Вы пытаетесь считать больше элементов, чем предусмотрено условием\"\n",
    "        return self.inputs.popleft()\n",
    "    def __enter__(self):\n",
    "        global print\n",
    "        global input\n",
    "        print = self.print\n",
    "        input = self.input\n",
    "        return self.outputs\n",
    "    def __exit__(self, *args):\n",
    "        global print\n",
    "        global input\n",
    "        del print\n",
    "        del input"
   ]
  },
  {
   "cell_type": "markdown",
   "metadata": {},
   "source": [
    "### Задача 1\n",
    "Напишите программу, которая запрашивает у пользователя любой адрес в одну строку в формате: `город,улица,дом` и выводит на экран список из отдельных элементов адреса (в квадратных скобках через запятую и пробел). Обратите внимание на отстутствие пробела после запятых во входных данных, это важно!\n",
    "\n",
    "**Пример.**\n",
    "\n",
    "**Входные данные:**\n",
    "\n",
    "    Москва,Мясницкая,20\n",
    "\n",
    "**Выходные данные:**\n",
    "\n",
    "    ['Москва', 'Мясницкая', '20']"
   ]
  },
  {
   "cell_type": "code",
   "execution_count": null,
   "metadata": {
    "deletable": false,
    "nbgrader": {
     "checksum": "505ca65e27ef3e060195fbc2a1cf7832",
     "grade": false,
     "grade_id": "p1",
     "locked": false,
     "schema_version": 1,
     "solution": true
    }
   },
   "outputs": [],
   "source": [
    "def address():\n",
    "    # YOUR CODE HERE\n",
    "address()"
   ]
  },
  {
   "cell_type": "code",
   "execution_count": null,
   "metadata": {
    "deletable": false,
    "nbgrader": {
     "checksum": "d1ad39649e2b7ef66f1fd6ff7c45a7fa",
     "grade": true,
     "grade_id": "p1_test",
     "locked": true,
     "points": 1,
     "schema_version": 1,
     "solution": false
    }
   },
   "outputs": [],
   "source": [
    "test_data = [\n",
    "    (\"Москва,Мясницкая,20\", [\"Москва\", \"Мясницкая\", \"20\"]),\n",
    "    (\"Санкт-Петербург,Кантемировская,3\", [\"Санкт-Петербург\", \"Кантемировская\", \"3\"]),\n",
    "    (\"Пермь,Студенческая,38\", [\"Пермь\", \"Студенческая\", \"38\"])]\n",
    "\n",
    "for inp, out in test_data:\n",
    "    with Tester([inp]) as t:\n",
    "        address()\n",
    "        assert len(t) == 1, \"Вам нужно вывести ровно одну строку с ответом\"\n",
    "        assert t[0].rstrip() == repr(out), (\n",
    "            \"Неверный ответ для входной строки {}, \"\n",
    "            \"ожидалось {}, получено {}\".format(inp, repr(out), t[0]))"
   ]
  },
  {
   "cell_type": "markdown",
   "metadata": {},
   "source": [
    "### Задача 2\n",
    "\n",
    "Дан список станций желтой ветки московского метро (упорядочены как на карте):\n",
    "\n",
    "    line = [\"Третьяковская\", \"Марксистская\", \"Площадь Ильича\", \"Авиамоторная\", \"Шоссе Энтузиастов\",\n",
    "    \"Перово\", \"Новогиреево\", \"Новокосино\"]\n",
    "\n",
    "Давайте считать, что движение происходит от Третьяковской до Новокосино.\n",
    "\n",
    "Напишите программу, которая запрашивает у пользователя название текущей станции метро (без лишнего пробела на конце) и выводит на экран сообщение вида\n",
    "\n",
    "    Следующая станция: станция.\n",
    "\n",
    "Считайте, что пользователь знает, какая станция конечная, и не будет запрашивать станцию, следующую после Новокосино.\n",
    "\n",
    "**Пример:**\n",
    "\n",
    "*Входные данные:*\n",
    "\n",
    "    Введите текущую станцию: Площадь Ильича\n",
    "\n",
    "*Выходные данные:*\n",
    "\n",
    "    Следующая станция: Авиамоторная\n",
    "\n",
    "**Подсказка:**\n",
    "\n",
    "Чтобы вернуть индекс определенного элемента в списке, нужно воспользоваться методом `.index()`. "
   ]
  },
  {
   "cell_type": "code",
   "execution_count": null,
   "metadata": {
    "deletable": false,
    "nbgrader": {
     "checksum": "4eb47abd4771cbb606e8bfc70a9fb56e",
     "grade": false,
     "grade_id": "p2",
     "locked": false,
     "schema_version": 1,
     "solution": true
    }
   },
   "outputs": [],
   "source": [
    "def metro():\n",
    "    line = [\"Третьяковская\", \"Марксистская\", \"Площадь Ильича\", \"Авиамоторная\", \"Шоссе Энтузиастов\",\n",
    "    \"Перово\", \"Новогиреево\", \"Новокосино\"]\n",
    "    # YOUR CODE HERE\n",
    "\n",
    "metro()"
   ]
  },
  {
   "cell_type": "code",
   "execution_count": null,
   "metadata": {
    "deletable": false,
    "nbgrader": {
     "checksum": "0b0063423d133df289a3bd667a9a3eb6",
     "grade": true,
     "grade_id": "p2-test",
     "locked": true,
     "points": 1,
     "schema_version": 1,
     "solution": false
    }
   },
   "outputs": [],
   "source": [
    "test_data = [\n",
    "    (\"Третьяковская\", \"Следующая станция: Марксистская\"),\n",
    "    (\"Марксистская\", \"Следующая станция: Площадь Ильича\"),\n",
    "    (\"Площадь Ильича\", \"Следующая станция: Авиамоторная\"),\n",
    "    (\"Авиамоторная\", \"Следующая станция: Шоссе Энтузиастов\"),\n",
    "    (\"Шоссе Энтузиастов\",\"Следующая станция: Перово\"),\n",
    "    (\"Перово\", \"Следующая станция: Новогиреево\"),\n",
    "    (\"Новогиреево\", \"Следующая станция: Новокосино\")\n",
    "]\n",
    "\n",
    "for inp, out in test_data:\n",
    "    with Tester([inp]) as t:\n",
    "        metro()\n",
    "        assert len(t) == 1, \"Вам нужно вывести ровно одну строку с ответом\"\n",
    "        assert t[0] == out+\"\\n\", \"Неверный ответ, была введена строка \" + inp"
   ]
  },
  {
   "cell_type": "markdown",
   "metadata": {},
   "source": [
    "### Задача 3\n",
    "\n",
    "Напишите программу, которая запрашивает у пользователя номер мобильного телефона в формате X-XXX-XXX-XX-XX-XX  и выводит на экран номер в формате X(XXX)XXX-XX-XX.\n",
    "\n",
    "**Пример:**\n",
    "\n",
    "*Входные данные:*\n",
    "\n",
    "    Введите номер телефона: 8-906-000-11-22\n",
    "\n",
    "*Выходные данные:*\n",
    "\n",
    "    8(906)000-11-22"
   ]
  },
  {
   "cell_type": "code",
   "execution_count": null,
   "metadata": {
    "deletable": false,
    "nbgrader": {
     "checksum": "ae59eb810142d3be72da1361bd705154",
     "grade": false,
     "grade_id": "p3",
     "locked": false,
     "schema_version": 1,
     "solution": true
    }
   },
   "outputs": [],
   "source": [
    "def phone():\n",
    "    # YOUR CODE HERE\n",
    "    \n",
    "phone()"
   ]
  },
  {
   "cell_type": "code",
   "execution_count": null,
   "metadata": {
    "deletable": false,
    "nbgrader": {
     "checksum": "7720eb5bd8419f11cee3e12e7a2eeae4",
     "grade": true,
     "grade_id": "p3-test",
     "locked": true,
     "points": 1,
     "schema_version": 1,
     "solution": false
    }
   },
   "outputs": [],
   "source": [
    "test_data = [\n",
    "    (\"8-906-000-11-22\", \"8(906)000-11-22\"),\n",
    "    (\"1-234-000-17-82\", \"1(234)000-17-82\"),\n",
    "    (\"7-190-904-88-00\", \"7(190)904-88-00\")\n",
    "]\n",
    "\n",
    "for inp, out in test_data:\n",
    "    with Tester([inp]) as t:\n",
    "        phone()\n",
    "        assert len(t) == 1, \"Вам нужно вывести ровно одну строку с ответом\"\n",
    "        assert t[0] == out+\"\\n\", \"Неверный ответ, была введена строка \" + inp"
   ]
  },
  {
   "cell_type": "markdown",
   "metadata": {},
   "source": [
    "### Задача 4\n",
    "\n",
    "Дан список с названиями файлов:\n",
    "\n",
    "    files = ['file 1.txt', 'file 2.txt', 'file 6.txt', 'file 9.txt']\n",
    "\n",
    "Напишите программу, которая переименовывает файлы в списке ‒ заменяет все пробелы на нижнее подчеркивание ‒ и выводит обновленный список `files` на экран.\n",
    "\n",
    "**Пример:**\n",
    "\n",
    "*Входные данные:*\n",
    "\n",
    "    files = ['file 1.txt', 'file 2.txt', 'file 6.txt', 'file 9.txt']\n",
    "\n",
    "*Выходные данные:*\n",
    "\n",
    "    files = ['file_1.txt', 'file_2.txt', 'file_6.txt', 'file_9.txt']\n",
    "    \n",
    "**Подсказка:** вам потребуется цикл и метод `.replace()` для строк.    "
   ]
  },
  {
   "cell_type": "code",
   "execution_count": null,
   "metadata": {
    "deletable": false,
    "nbgrader": {
     "checksum": "5538d0101acd0ff6d3592468dc0dad8d",
     "grade": false,
     "grade_id": "p4",
     "locked": false,
     "schema_version": 1,
     "solution": true
    }
   },
   "outputs": [],
   "source": [
    "def frename():\n",
    "    files = ['file 1.txt', 'file 2.txt', 'file 6.txt', 'file 9.txt']\n",
    "    # YOUR CODE HERE\n",
    "    \n",
    "    return files\n",
    "frename()    "
   ]
  },
  {
   "cell_type": "code",
   "execution_count": null,
   "metadata": {
    "deletable": false,
    "nbgrader": {
     "checksum": "5b5821bd96477f42234c09ac2fbd7126",
     "grade": true,
     "grade_id": "p4-test",
     "locked": true,
     "points": 1,
     "schema_version": 1,
     "solution": false
    }
   },
   "outputs": [],
   "source": [
    "files = ['file_1.txt', 'file_2.txt', 'file_6.txt', 'file_9.txt']\n",
    "\n",
    "t = frename()\n",
    "\n",
    "assert t == files,\"Неверный ответ\" "
   ]
  },
  {
   "cell_type": "markdown",
   "metadata": {},
   "source": [
    "### Задача 5 \n",
    "\n",
    "Введите с клавиатуры две строки. Разбейте первую строку на слова и добавьте в конец получившегося списка вторую строку целиком. Выведите получившийся список.\n",
    "\n",
    "**Пример**\n",
    "\n",
    "_Входные данные_\n",
    "\n",
    "    Hello Brave New World\n",
    "    This is a test\n",
    "\n",
    "_Выходные данные_\n",
    "\n",
    "    ['Hello', 'Brave', 'New', 'World', 'This is a test']"
   ]
  },
  {
   "cell_type": "code",
   "execution_count": null,
   "metadata": {
    "deletable": false,
    "nbgrader": {
     "checksum": "99764d6bf96e0e2e7962f1ee0f5e39be",
     "grade": false,
     "grade_id": "p5",
     "locked": false,
     "schema_version": 1,
     "solution": true
    }
   },
   "outputs": [],
   "source": [
    "def add_string():\n",
    "    # YOUR CODE HERE\n",
    "add_string()"
   ]
  },
  {
   "cell_type": "code",
   "execution_count": null,
   "metadata": {
    "deletable": false,
    "nbgrader": {
     "checksum": "4819f9851ffc8fb3e36071b46098a6c9",
     "grade": true,
     "grade_id": "p5-test",
     "locked": true,
     "points": 1,
     "schema_version": 1,
     "solution": false
    }
   },
   "outputs": [],
   "source": [
    "from ast import literal_eval\n",
    "\n",
    "test_data = [\n",
    "    ([\"This\", \"is\", \"a\", \"test\"], \"This is a test\"),\n",
    "    ([\"Hello\"], \"World\"),\n",
    "    ([\"One\", \"two\"], \"three four\"),\n",
    "    ([\"One\", \"Two\"] * 100, \"   \".join(\"this\"))\n",
    "]\n",
    "\n",
    "for words, word in test_data:\n",
    "    with Tester([\"  \".join(words), word]) as t:\n",
    "        add_string()\n",
    "        assert len(t) == 1, \"Вам нужно вывести ровно одну строку с ответом\"\n",
    "        assert literal_eval(t[0]) == words + [word], (\n",
    "            \"Неверный ответ для входных данных\\n{}\\n\"\n",
    "            \"ожидалось {}, получено {}\".format(\n",
    "                \"  \".join(words)+\"\\n\" + word + \"\\n\", \n",
    "                repr(words + [word]), t[0]))\n",
    "print(\"Отлично!\")"
   ]
  },
  {
   "cell_type": "markdown",
   "metadata": {},
   "source": [
    "### Задача 6 \n",
    "\n",
    "Даны два целых числа A и B (при этом A≤B). Каждое число вводится с клавитуры, после ввода пользователь нажимает «Enter». Выведите все целые числа от A до B включительно в столбик.\n",
    "\n",
    "Здесь имеет смысл использовать цикл `for` (хотя в принципе можно обойтись и без него).\n",
    "\n",
    "**Пример**\n",
    "\n",
    "**Входные данные**\n",
    "\n",
    "    3\n",
    "    6\n",
    "\n",
    "**Выходные данные**\n",
    "\n",
    "    3\n",
    "    4\n",
    "    5\n",
    "    6"
   ]
  },
  {
   "cell_type": "code",
   "execution_count": null,
   "metadata": {
    "deletable": false,
    "nbgrader": {
     "checksum": "c96fc68a4c8d46d619c55f300be7a1ec",
     "grade": false,
     "grade_id": "p6",
     "locked": false,
     "schema_version": 1,
     "solution": true
    }
   },
   "outputs": [],
   "source": [
    "def my_range():\n",
    "    # YOUR CODE HERE\n",
    "\n",
    "my_range()"
   ]
  },
  {
   "cell_type": "code",
   "execution_count": null,
   "metadata": {
    "deletable": false,
    "nbgrader": {
     "checksum": "aba42eac8a0ef74e22b9bdfd145a176d",
     "grade": true,
     "grade_id": "p6-test",
     "locked": true,
     "points": 1,
     "schema_version": 1,
     "solution": false
    }
   },
   "outputs": [],
   "source": [
    "test_data = [\n",
    "    [\"2 4\", \"2 3 4\"],\n",
    "    [\"1 10\", \"1 2 3 4 5 6 7 8 9 10\"],\n",
    "    [\"0 0\", \"0\"],\n",
    "    [\"-5 0\", \"-5 -4 -3 -2 -1 0\"],\n",
    "    [\"1 1\", \"1\"],\n",
    "    [\"0 100\", '0 1 2 3 4 5 6 7 8 9 10 11 12 13 14 15 16 17 18 19 20 21 22 23 24 25 26 27 28 29 30 31 32 33 34 35 36 37 38 39 40 41 42 43 44 45 46 47 48 49 50 51 52 53 54 55 56 57 58 59 60 61 62 63 64 65 66 67 68 69 70 71 72 73 74 75 76 77 78 79 80 81 82 83 84 85 86 87 88 89 90 91 92 93 94 95 96 97 98 99 100']\n",
    "]\n",
    "\n",
    "for inp, out in test_data:\n",
    "    with Tester(inp.split()) as t:\n",
    "        my_range()\n",
    "        assert len(t) == len(out.split()), 'Вы вывели неверное количество чисел для входных данных ' + inp\n",
    "        for o, e in zip(t, out.split()):\n",
    "            assert int(o) == int(e), \"Неверный ответ для входных данных \" + inp"
   ]
  },
  {
   "cell_type": "markdown",
   "metadata": {},
   "source": [
    "### Задача 7\n",
    "Напишите программу, которая запрашивает целое число `n` с клавиатуры, затем `n` целых чисел, после чего выводит произведение всех этих чисел.\n",
    "\n",
    "**Пример.**\n",
    "\n",
    "**Входные данные:**\n",
    "\n",
    "    3\n",
    "    9\n",
    "    2\n",
    "    5\n",
    "\n",
    "**Выходные данные:**\n",
    "\n",
    "    90"
   ]
  },
  {
   "cell_type": "code",
   "execution_count": null,
   "metadata": {
    "deletable": false,
    "nbgrader": {
     "checksum": "9227dbbf794932abdf51790362b5d7c1",
     "grade": false,
     "grade_id": "p7",
     "locked": false,
     "schema_version": 1,
     "solution": true
    }
   },
   "outputs": [],
   "source": [
    "def prod_n():\n",
    "    # YOUR CODE HERE\n",
    "prod_n()"
   ]
  },
  {
   "cell_type": "code",
   "execution_count": null,
   "metadata": {
    "deletable": false,
    "nbgrader": {
     "checksum": "dc76ee5a8d51c6fa23fbebc17826e1d5",
     "grade": true,
     "grade_id": "p7_test",
     "locked": true,
     "points": 1,
     "schema_version": 1,
     "solution": false
    }
   },
   "outputs": [],
   "source": [
    "test_data = [\n",
    "    (\"3 9 2 5\", 90),\n",
    "    (\"1 1\", 1),\n",
    "    (\"2 0 10\", 0),\n",
    "    (\"2 10 0\", 0),\n",
    "    (\"10 1 2 3 4 5 6 7 8 9 10\", 3628800),\n",
    "    (\"5 -1 -1 -1 -1 -1\", -1)\n",
    "]\n",
    "\n",
    "for inp, out in test_data:\n",
    "    with Tester(inp.split()) as t:\n",
    "        prod_n()\n",
    "        assert len(t) == 1, \"Вам нужно вывести ровно одну строку с ответом\"\n",
    "        assert t[0].strip() == str(out), \"Неверный ответ, были введены числа \" + inp\n",
    "print(\"Ура, всё верно!\")"
   ]
  },
  {
   "cell_type": "markdown",
   "metadata": {},
   "source": [
    "### Задача 8 (2 балла)\n",
    "Факториалом натурального числа $n$ называется произведение всех натуральных чисел от 1 до $n$ включительно. Факториал $n$ обозначается $n!$. Например,\n",
    "$$\n",
    "4! = 1 \\times 2 \\times 3 \\times 4 = 24.\n",
    "$$\n",
    "Написать программу, запрашивающую натуральное число $n$ с клавиатуры, вычисляющую и печатающую $n!$. Использовать какие-либо библиотечные функции нельзя (то есть запрещена конструкция `import`).\n",
    "\n",
    "**Пример.**\n",
    "\n",
    "**Входные данные:**\n",
    "\n",
    "    5\n",
    "\n",
    "**Выходные данные:**\n",
    "\n",
    "    120"
   ]
  },
  {
   "cell_type": "code",
   "execution_count": null,
   "metadata": {
    "deletable": false,
    "nbgrader": {
     "checksum": "d61f7de752f5a7b69b9d41f3c52959cf",
     "grade": false,
     "grade_id": "p8",
     "locked": false,
     "schema_version": 1,
     "solution": true
    }
   },
   "outputs": [],
   "source": [
    "def my_fact():\n",
    "    # YOUR CODE HERE\n",
    "\n",
    "my_fact()"
   ]
  },
  {
   "cell_type": "code",
   "execution_count": null,
   "metadata": {
    "deletable": false,
    "nbgrader": {
     "checksum": "3a6bd639862def50c485166c59c10356",
     "grade": true,
     "grade_id": "p8_test",
     "locked": true,
     "points": 2,
     "schema_version": 1,
     "solution": false
    }
   },
   "outputs": [],
   "source": [
    "test_data = [\n",
    "    (\"1\", 1),\n",
    "    (\"2\", 2),\n",
    "    (\"3\", 6),\n",
    "    (\"4\", 24),\n",
    "    (\"5\", 120),\n",
    "    (\"10\", 3628800),\n",
    "    (\"20\", 2432902008176640000)\n",
    "]\n",
    "\n",
    "for inp, out in test_data:\n",
    "    with Tester([inp]) as t:\n",
    "        my_fact()\n",
    "        assert len(t) == 1, \"Вам нужно вывести ровно одну строку с ответом\"\n",
    "        assert t[0].strip() == str(out), \"Неверный ответ, были введены числа \" + inp\n",
    "print(\"Хорошо, давайте теперь что-нибудь посложнее решим!\")"
   ]
  },
  {
   "cell_type": "markdown",
   "metadata": {},
   "source": [
    "### Задача 9 (2 балла)\n",
    "Числа Фибоначчии — это последовательность чисел, заданная следующим образом:\n",
    "\n",
    "$$a_1 = 1,\\quad a_2 = 1, \\quad a_{k+1}=a_k+a_{k-1}$$\n",
    "\n",
    "Ввести число `k` с клавиатуры и вывести $a_k$. Считать, что число `k` всегда больше одного. (То есть на вход никогда не будет подано число, меньшее или равное одного.)\n",
    "\n",
    "\n",
    "**Пример.**\n",
    "\n",
    "    \n",
    "_Входные данные:_\n",
    "\n",
    "    3\n",
    "\n",
    "_Выходные данные:_\n",
    "\n",
    "    2\n",
    "  \n",
    "_Входные данные:_\n",
    "\n",
    "    5\n",
    "\n",
    "_Выходные данные:_\n",
    "\n",
    "    5\n",
    "  \n",
    "_Входные данные:_\n",
    "\n",
    "    6\n",
    "\n",
    "_Выходные данные:_\n",
    "\n",
    "    8"
   ]
  },
  {
   "cell_type": "code",
   "execution_count": null,
   "metadata": {
    "deletable": false,
    "nbgrader": {
     "checksum": "f4150c8a446c56db057305c890b947ec",
     "grade": false,
     "grade_id": "p9",
     "locked": false,
     "schema_version": 1,
     "solution": true
    }
   },
   "outputs": [],
   "source": [
    "def fib_k():\n",
    "    # YOUR CODE HERE\n",
    "fib_k()"
   ]
  },
  {
   "cell_type": "code",
   "execution_count": null,
   "metadata": {
    "deletable": false,
    "nbgrader": {
     "checksum": "7ddb2b0ce496591ab2f50bd302428ddf",
     "grade": true,
     "grade_id": "p9_test",
     "locked": true,
     "points": 2,
     "schema_version": 1,
     "solution": false
    }
   },
   "outputs": [],
   "source": [
    "test_data = [(33, 3524578),\n",
    " (87, 679891637638612258),\n",
    " (66, 27777890035288),\n",
    " (43, 433494437),\n",
    " (44, 701408733),\n",
    " (19, 4181),\n",
    " (98, 135301852344706746049),\n",
    " (65, 17167680177565),\n",
    " (32, 2178309),\n",
    " (11, 89)]\n",
    "for inp, out in test_data:\n",
    "    with Tester([str(inp)]) as t:\n",
    "        fib_k()\n",
    "        assert len(t) == 1, \"Вам нужно вывести ровно одну строку с ответом\"\n",
    "        assert t[0].strip() == str(out), (\"Неверный ответ, было \"\n",
    "                                          \"введено число \" + str(inp) + \n",
    "                                         \" ожидалось \" + str(out))\n",
    "print(\"Ура, всё верно!\")"
   ]
  },
  {
   "cell_type": "markdown",
   "metadata": {},
   "source": [
    "### Задача 10 (3 балла)\n",
    "Введите число `n` с клавиатуры. Выведите таблицу умножения от 1 до `n` включительно, как показано в примере.\n",
    "\n",
    "**Пример**\n",
    "\n",
    "_Входные данные_\n",
    "\n",
    "    5\n",
    "\n",
    "_Выходные данные_\n",
    "\n",
    "    1 2 3 4 5 \n",
    "    2 4 6 8 10 \n",
    "    3 6 9 12 15 \n",
    "    4 8 12 16 20 \n",
    "    5 10 15 20 25 "
   ]
  },
  {
   "cell_type": "code",
   "execution_count": null,
   "metadata": {
    "deletable": false,
    "nbgrader": {
     "checksum": "79e609db14d419f834f123411311251e",
     "grade": false,
     "grade_id": "p10",
     "locked": false,
     "schema_version": 1,
     "solution": true
    }
   },
   "outputs": [],
   "source": [
    "def mult_table():\n",
    "    # YOUR CODE HERE\n",
    "mult_table()"
   ]
  },
  {
   "cell_type": "code",
   "execution_count": null,
   "metadata": {},
   "outputs": [],
   "source": [
    "def mult_table():\n",
    "    n = int(input(\"Введите n: \"))\n",
    "    \n",
    "    c = list(range (n))\n",
    "    c.append (n)\n",
    "    c.pop(0)\n",
    "    \n",
    "    \n",
    "    for i in c:\n",
    "        for j in c:\n",
    "            print (i*j)\n",
    "        print()    \n",
    "        \n",
    "mult_table()"
   ]
  },
  {
   "cell_type": "code",
   "execution_count": null,
   "metadata": {
    "deletable": false,
    "nbgrader": {
     "checksum": "f7f72927d0804762e077e3f00c8d0474",
     "grade": true,
     "grade_id": "p10_test",
     "locked": true,
     "points": 3,
     "schema_version": 1,
     "solution": false
    }
   },
   "outputs": [],
   "source": [
    "test_data = [(1, ['1 \\n']),\n",
    " (4, ['1 2 3 4 \\n', '2 4 6 8 \\n', '3 6 9 12 \\n', '4 8 12 16 \\n']),\n",
    " (7,\n",
    "  ['1 2 3 4 5 6 7 \\n',\n",
    "   '2 4 6 8 10 12 14 \\n',\n",
    "   '3 6 9 12 15 18 21 \\n',\n",
    "   '4 8 12 16 20 24 28 \\n',\n",
    "   '5 10 15 20 25 30 35 \\n',\n",
    "   '6 12 18 24 30 36 42 \\n',\n",
    "   '7 14 21 28 35 42 49 \\n']),\n",
    " (10,\n",
    "  ['1 2 3 4 5 6 7 8 9 10 \\n',\n",
    "   '2 4 6 8 10 12 14 16 18 20 \\n',\n",
    "   '3 6 9 12 15 18 21 24 27 30 \\n',\n",
    "   '4 8 12 16 20 24 28 32 36 40 \\n',\n",
    "   '5 10 15 20 25 30 35 40 45 50 \\n',\n",
    "   '6 12 18 24 30 36 42 48 54 60 \\n',\n",
    "   '7 14 21 28 35 42 49 56 63 70 \\n',\n",
    "   '8 16 24 32 40 48 56 64 72 80 \\n',\n",
    "   '9 18 27 36 45 54 63 72 81 90 \\n',\n",
    "   '10 20 30 40 50 60 70 80 90 100 \\n']),\n",
    " (13,\n",
    "  ['1 2 3 4 5 6 7 8 9 10 11 12 13 \\n',\n",
    "   '2 4 6 8 10 12 14 16 18 20 22 24 26 \\n',\n",
    "   '3 6 9 12 15 18 21 24 27 30 33 36 39 \\n',\n",
    "   '4 8 12 16 20 24 28 32 36 40 44 48 52 \\n',\n",
    "   '5 10 15 20 25 30 35 40 45 50 55 60 65 \\n',\n",
    "   '6 12 18 24 30 36 42 48 54 60 66 72 78 \\n',\n",
    "   '7 14 21 28 35 42 49 56 63 70 77 84 91 \\n',\n",
    "   '8 16 24 32 40 48 56 64 72 80 88 96 104 \\n',\n",
    "   '9 18 27 36 45 54 63 72 81 90 99 108 117 \\n',\n",
    "   '10 20 30 40 50 60 70 80 90 100 110 120 130 \\n',\n",
    "   '11 22 33 44 55 66 77 88 99 110 121 132 143 \\n',\n",
    "   '12 24 36 48 60 72 84 96 108 120 132 144 156 \\n',\n",
    "   '13 26 39 52 65 78 91 104 117 130 143 156 169 \\n'])]\n",
    "\n",
    "for inp, out in test_data:\n",
    "    with Tester([str(inp)]) as t:\n",
    "        mult_table()\n",
    "        line_t = \"\".join(t)\n",
    "        t = line_t.splitlines()\n",
    "        assert len(t) == len(out), \"Неверное количество строк в выводе\"\n",
    "        for l_test, l_out in zip(t, out):\n",
    "            assert len(l_test.split()) == len(l_out.split()), \\\n",
    "                \"Неверное количество элементов в строке \" + l_out\n",
    "            for el_test, el_out in zip(l_test.split(), l_out.split()):\n",
    "                assert el_test == el_out, \"Ошибка {} != {}\".format(l_test, \n",
    "                                                                   l_out)\n",
    "print(\"Теперь вы можете печатать тетрадки для школьников!\")"
   ]
  }
 ],
 "metadata": {
  "kernelspec": {
   "display_name": "Python 3",
   "language": "python",
   "name": "python3"
  },
  "language_info": {
   "codemirror_mode": {
    "name": "ipython",
    "version": 3
   },
   "file_extension": ".py",
   "mimetype": "text/x-python",
   "name": "python",
   "nbconvert_exporter": "python",
   "pygments_lexer": "ipython3",
   "version": "3.6.4"
  }
 },
 "nbformat": 4,
 "nbformat_minor": 2
}
