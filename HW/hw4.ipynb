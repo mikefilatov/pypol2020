{
 "cells": [
  {
   "cell_type": "markdown",
   "metadata": {},
   "source": [
    "# Основы программирования в Python\n",
    "\n",
    "*Алла Тамбовцева, НИУ ВШЭ*\n",
    "\n",
    "### Домашнее задание 4\n",
    "\n",
    "Файл с решениями нужно загрузить на Dropbox по [ссылке](https://www.dropbox.com/request/oGm59Nl1AYgJq4jlc6GN). "
   ]
  },
  {
   "cell_type": "markdown",
   "metadata": {},
   "source": [
    "### Часть 1\n",
    "\n",
    "1. Загрузите csv-файл с таблицей по [ссылке](http://math-info.hse.ru/f/2017-18/py-prog/Fishing.csv). Описание базы см. [здесь](https://vincentarelbundock.github.io/Rdatasets/doc/Ecdat/Fishing.html).\n",
    "2. Выведите описательные статистики для всех количественных (*integer*, *float*) переменных в базе. \n",
    "3. Выберите из таблицы только строки, которые соответствуют респондентам, которые выбрали рыбалку на берегу (beach).\n",
    "4. Выберите из таблицы строки, которые соответствуют респондентам, которые предпочитают рыбачить на лодке (boat) с доходом  (*income*) ниже 3500. Сохраните результат в переменную `d`. \n",
    "5. Переименуйте столбец *catch* в *c_rate*. (см. [документацию](https://pandas.pydata.org/pandas-docs/stable/reference/api/pandas.DataFrame.rename.html)) \n",
    "6. Добавьте в таблицу столбец *log_income*, содержащий натуральный логарифм доходов респондентов (примените метод `.log()` для нужной колонки).\n",
    "7. Сгруппируйте наблюдения в таблице по признаку *тип рыбалки* (*mode*) и выведите для каждого типа среднюю цену (*price*), которую респонденты готовы заплатить за рыбалку.\n",
    "8. Постройте гистограмму для показателя *pboat*, поменяйте ее цвет и добавьте название графика (см. [документацию](https://pandas.pydata.org/pandas-docs/stable/reference/api/pandas.DataFrame.hist.html), параметр `c` задает цвет). \n",
    "9. Выведите на экран первые 8 строк таблицы. А теперь последние 8.\n",
    "10. Сохраните датафрейм в csv-файл."
   ]
  }
 ],
 "metadata": {
  "celltoolbar": "Create Assignment",
  "kernelspec": {
   "display_name": "Python 3",
   "language": "python",
   "name": "python3"
  },
  "language_info": {
   "codemirror_mode": {
    "name": "ipython",
    "version": 3
   },
   "file_extension": ".py",
   "mimetype": "text/x-python",
   "name": "python",
   "nbconvert_exporter": "python",
   "pygments_lexer": "ipython3",
   "version": "3.7.6"
  }
 },
 "nbformat": 4,
 "nbformat_minor": 2
}
