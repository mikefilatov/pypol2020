{
 "cells": [
  {
   "cell_type": "markdown",
   "metadata": {},
   "source": [
    "Факультет социальных наук, ОП \"Политология\"\n",
    "\n",
    "# Знакомство с Jupyter notebook\n",
    "\n",
    "*Лекция основана на материалах [курса](https://github.com/allatambov/py-dat19) Аллы Тамбовцевой*\n",
    "\n",
    "В данной лекции мы познакомимся с устройством Jupyter notebook. Название программы говорит само за себя. По сути дела мы работаем в пространстве, где можно делать какие-то заметки, записи, проекты. Основная особенность Jupyter -- свои записи мы делаем в отдельных ячейках. По умолчанию тип ячейки Code, это можно увидеть на панели под меню. Чтобы изменить тип ячейки, нужно нажать на стрелочку вниз и выбрать нужный вариант. Всего вариантов четыре: Code, Markdown, RawNBConvert и Heading.\n",
    "\n",
    "* Code: ячейка с кодом Python;\n",
    "* Markdown: ячейка с размеченным текстом, язык разметки Markdown;\n",
    "* RawNBConvert: неразмеченный («сырой») текст, без курсива/полужирного шрифта;\n",
    "* Heading: устарел, раньше использовался для заголовков, сейчас их нужно создавать в режиме Markdown.\n",
    "\n",
    "Пример ячейки с кодом:"
   ]
  },
  {
   "cell_type": "code",
   "execution_count": 1,
   "metadata": {},
   "outputs": [
    {
     "name": "stdout",
     "output_type": "stream",
     "text": [
      "3 0.2\n"
     ]
    }
   ],
   "source": [
    "a = 3 # создаем переменную a и присваиваем ей значение 3\n",
    "b = 0.2 \n",
    "\n",
    "# комментарий 1\n",
    "# комментарий 2\n",
    "\n",
    "print(a, b) # выводим на экран значения переменных A и B"
   ]
  },
  {
   "cell_type": "markdown",
   "metadata": {},
   "source": [
    "Пример ячейки с неразмеченным текстом:"
   ]
  },
  {
   "cell_type": "raw",
   "metadata": {},
   "source": [
    "This is a raw text."
   ]
  },
  {
   "cell_type": "markdown",
   "metadata": {},
   "source": [
    "## Язык разметки Markdown\n",
    "\n",
    "Markdown -- удобный язык разметки, который намного проще html и $\\LaTeX$. Рассмотрим некоторые возможности Markdown ниже.\n",
    "\n",
    "Во-первых, мы можем выделять заголовки разных уровней  тексте. Делается это следующим образом: на новой строке в ячейке вставляем символ `#` и пишем текст закоголовка (всего доступно 6 уровней заголовков). В редакторе это будет выглядеть примрно так:\n",
    "\n",
    "```\n",
    "# Заголовок 1\n",
    "## Заголовок 2\n",
    "### Заголовок 3\n",
    "#### Заголовок 4\n",
    "##### Заголовок 5\n",
    "###### Заголовок 6\n",
    "```\n",
    "А в запущенной ячейке так:\n",
    "\n",
    "# Заголовок 1\n",
    "## Заголовок 2\n",
    "### Заголовок 3\n",
    "#### Заголовок 4\n",
    "##### Заголовок 5\n",
    "###### Заголовок 6\n",
    "\n",
    "\n",
    "\n",
    "Новый абзац можно получить путем отступа строки.\n",
    "\n",
    "> Также в Jupyter можно вынести текст вот в такой блок. Отлично подойдет для суммирования, цитировния или подсвечивания важных деталей\n",
    "\n",
    "`> Также в Jupyter можно вынести текст вот в такой блок. Отлично подойдет для суммирования, цитировния или подсвечивания важных деталей`\n",
    "\n",
    "---\n",
    "Мы можем выделять части текста с помощью *курсива* или **полужирного** начертания. Или даже <s>зачеркивать</s> .\n",
    "\n",
    "Делается это так:\n",
    "    \n",
    "    \n",
    "```\n",
    "Мы можем выделять части текста с помощью *курсива* или **полужирного** начертания. Или даже <s>зачеркивать</s>.  \n",
    "```\n",
    "\n",
    "Добавлять списки разного вида.\n",
    "\n",
    "Ненумерованный список.\n",
    "\n",
    "На входе:\n",
    "\n",
    "```\n",
    "* пункт 1\n",
    "* пункт 2\n",
    "* пункт 3\n",
    "```\n",
    "\n",
    "На выходе:\n",
    "\n",
    "\n",
    "* пункт 1\n",
    "* пункт 2\n",
    "* пункт 3\n",
    "\n",
    "\n",
    "Нумерованный список:\n",
    "\n",
    "На входе:\n",
    "\n",
    "```\n",
    "1. Во-первых,...\n",
    "2. Во-вторых,...\n",
    "3. В-третьих,...\n",
    "```\n",
    "\n",
    "\n",
    "На выходе:\n",
    "\n",
    "1. Во-первых,...\n",
    "2. Во-вторых,...\n",
    "3. В-третьих,...\n",
    "\n",
    "Стоит отметить, что коггда вы создаете нумерованные списки, то нумерация на выходе будет выглядеть правильно и по порядку, даже если вы ошибетесь в номере буллета.\n",
    "\n",
    "Например,\n",
    "\n",
    "На входе:\n",
    "\n",
    "```\n",
    "1. Во-первых,...\n",
    "3. Во-вторых,...\n",
    "3. В-третьих,...\n",
    "```\n",
    "\n",
    "На выходе:\n",
    "\n",
    "1. Во-первых,...\n",
    "3. Во-вторых,...\n",
    "3. В-третьих,...\n",
    "\n",
    "---\n",
    "Также Jupyter поддерживает формулы $\\LaTeX$. На входе:\n",
    "\n",
    "```\n",
    "$$(x+y)^2 = x^2 + 2xy + y^2$$\n",
    "\n",
    "$$\\Delta = I_{2018} - I_{2017}$$\n",
    "\n",
    "$$P(A|B) = \\frac{P(A \\cap B)}{P(B)}$$\n",
    "\n",
    "$$\\sin(\\alpha)^2 + cos(\\alpha)^2 = 1$$\n",
    "```\n",
    "\n",
    "На выходе:\n",
    "\n",
    "$$(x+y)^2 = x^2 + 2xy + y^2$$\n",
    "\n",
    "$$\\Delta = I_{2018} - I_{2017}$$\n",
    "\n",
    "$$P(A|B) = \\frac{P(A \\cap B)}{P(B)}$$\n",
    "\n",
    "$$\\sin(\\alpha)^2 + cos(\\alpha)^2 = 1$$\n",
    "\n",
    "---\n",
    "\n",
    "Еще можно добавлять ссылки. Либо текст ссылки и саму ссылку: текст `[Jupyter](http://jupyter.org)` даст ссылку [Jupyter](http://jupyter.org). Либо саму ссылку как есть: текст `<http://jupyter.org/>` вернет ссылку http://jupyter.org/.\n",
    "\n",
    "Ну и конечно мы можем добавлять картинки. Приведенный ниже код\n",
    "\n",
    "`![python](https://toplogos.ru/images/logo-python.png)`\n",
    "\n",
    "вернет следующую картинку\n",
    "\n",
    "![python](https://toplogos.ru/images/logo-python.png)\n",
    "\n",
    "### Горячие клавиши\n",
    "\n",
    "В Jupyter Notebook есть свои горячие клавиши, которые позволяют добавлять или удалять ячейки, менять их тип и так далее. Чтобы работать в режиме горячих клавиш, нужно выйти из редактирования ячейки (нажать на Esc), а потом набрать нужную комбинацию клавиш. Чтобы вернуться в режим редактирования ячейки, можно кликнуть на нее два раза или, выбрав ее, нажать Enter. Все полезные комбинации клавиш можно найти в меню (Help - Keyboard Shortcuts) или нажав Esc, а потом H или P.\n",
    "\n",
    "Также в Jupyter существуют так называемые \"магические команды\" (magic commands). Почитать про них можно [здесь](https://ipython.readthedocs.io/en/stable/interactive/magics.html). На лекции мы рассматривали рендер html блоков. Вот пример вывода плейлиста из Яндекс.Музыки. Для этого мы просто скопировали код для виджета на сайте."
   ]
  },
  {
   "cell_type": "code",
   "execution_count": 2,
   "metadata": {
    "scrolled": true
   },
   "outputs": [
    {
     "data": {
      "text/html": [
       "<iframe frameborder=\"0\" style=\"border:none;width:100%;height:450px;\" width=\"100%\" height=\"450\" src=\"https://music.yandex.ru/iframe/#album/11916420\">Слушайте <a href='https://music.yandex.ru/album/11916420'>«Довод»</a> — <a href='https://music.yandex.ru/artist/593930'>Ludwig Göransson</a> на Яндекс.Музыке</iframe>\n"
      ],
      "text/plain": [
       "<IPython.core.display.HTML object>"
      ]
     },
     "metadata": {},
     "output_type": "display_data"
    }
   ],
   "source": [
    "%%html\n",
    "<iframe frameborder=\"0\" style=\"border:none;width:100%;height:450px;\" width=\"100%\" height=\"450\" src=\"https://music.yandex.ru/iframe/#album/11916420\">Слушайте <a href='https://music.yandex.ru/album/11916420'>«Довод»</a> — <a href='https://music.yandex.ru/artist/593930'>Ludwig Göransson</a> на Яндекс.Музыке</iframe>"
   ]
  },
  {
   "cell_type": "markdown",
   "metadata": {},
   "source": [
    "Также можно добавлять видео из YouTube."
   ]
  },
  {
   "cell_type": "code",
   "execution_count": 9,
   "metadata": {},
   "outputs": [
    {
     "data": {
      "text/html": [
       "<iframe width=\"550\" height=\"300\" src=\"https://www.youtube.com/embed/LfduUFF_i1A\" frameborder=\"0\" allow=\"accelerometer; autoplay; encrypted-media; gyroscope; picture-in-picture\" allowfullscreen></iframe>\n"
      ],
      "text/plain": [
       "<IPython.core.display.HTML object>"
      ]
     },
     "metadata": {},
     "output_type": "display_data"
    }
   ],
   "source": [
    "%%html\n",
    "<iframe width=\"550\" height=\"300\" src=\"https://www.youtube.com/embed/LfduUFF_i1A\" frameborder=\"0\" allow=\"accelerometer; autoplay; encrypted-media; gyroscope; picture-in-picture\" allowfullscreen></iframe>"
   ]
  },
  {
   "cell_type": "markdown",
   "metadata": {},
   "source": [
    "### Если потерялись\n",
    "\n",
    "И наконец: как найти, куда Jupyter сохраняет ноутбуки — файлы с расширением .ipynb. Можно импортировать модуль os и узнать текущую рабочую папку (current working directory) — в ней будут лежать ноутбуки."
   ]
  },
  {
   "cell_type": "code",
   "execution_count": null,
   "metadata": {},
   "outputs": [],
   "source": [
    "import os\n",
    "os.getcwd()"
   ]
  },
  {
   "cell_type": "markdown",
   "metadata": {},
   "source": [
    "С помощью `import` мы будем импортировать любые модули или библиотеки Python, а также отдельные функции при необходимости. Кроме того, можем импортировать текст философии Python, которая имеет название \"The Zen of Python\":"
   ]
  },
  {
   "cell_type": "code",
   "execution_count": 10,
   "metadata": {},
   "outputs": [
    {
     "name": "stdout",
     "output_type": "stream",
     "text": [
      "The Zen of Python, by Tim Peters\n",
      "\n",
      "Beautiful is better than ugly.\n",
      "Explicit is better than implicit.\n",
      "Simple is better than complex.\n",
      "Complex is better than complicated.\n",
      "Flat is better than nested.\n",
      "Sparse is better than dense.\n",
      "Readability counts.\n",
      "Special cases aren't special enough to break the rules.\n",
      "Although practicality beats purity.\n",
      "Errors should never pass silently.\n",
      "Unless explicitly silenced.\n",
      "In the face of ambiguity, refuse the temptation to guess.\n",
      "There should be one-- and preferably only one --obvious way to do it.\n",
      "Although that way may not be obvious at first unless you're Dutch.\n",
      "Now is better than never.\n",
      "Although never is often better than *right* now.\n",
      "If the implementation is hard to explain, it's a bad idea.\n",
      "If the implementation is easy to explain, it may be a good idea.\n",
      "Namespaces are one honking great idea -- let's do more of those!\n"
     ]
    }
   ],
   "source": [
    "import this"
   ]
  },
  {
   "cell_type": "markdown",
   "metadata": {},
   "source": [
    "## Полезные ссылки\n",
    "\n",
    "* [Документация Jupyter](https://jupyter.readthedocs.io/en/latest/)\n",
    "* [Возможности Markdown](https://jupyter-notebook.readthedocs.io/en/latest/examples/Notebook/Working%20With%20Markdown%20Cells.html)\n",
    "* [Интро в Jupyter](https://realpython.com/jupyter-notebook-introduction/)\n",
    "* [Гитхаб проекта Jupyter](https://github.com/jupyter/jupyter/wiki/A-gallery-of-interesting-Jupyter-Notebooks)\n",
    "* [nbextensions](https://jupyter-contrib-nbextensions.readthedocs.io/en/latest/install.html). Дополнительные виджеты для Jupyter Notebook'ов. Позволяют создавать автоматическое содержание тетрадки, редактировать код и многое другое"
   ]
  }
 ],
 "metadata": {
  "kernelspec": {
   "display_name": "Python 3",
   "language": "python",
   "name": "python3"
  },
  "language_info": {
   "codemirror_mode": {
    "name": "ipython",
    "version": 3
   },
   "file_extension": ".py",
   "mimetype": "text/x-python",
   "name": "python",
   "nbconvert_exporter": "python",
   "pygments_lexer": "ipython3",
   "version": "3.7.6"
  }
 },
 "nbformat": 4,
 "nbformat_minor": 4
}
