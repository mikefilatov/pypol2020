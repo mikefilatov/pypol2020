{
 "cells": [
  {
   "cell_type": "markdown",
   "metadata": {},
   "source": [
    "## Задача 1\n",
    "\n",
    "Даны два списка a и b (см. ниже).\n",
    "\n",
    "1. Выведите на экран первый элемент списка a, третий элемент списка a, последний элемент списка a.\n",
    "2. Добавьте в список b элемент 7 (просто допишите в конец).\n",
    "3. Замените пятый элемент списка a на число 8.\n",
    "4. Создайте список merged, который включает в себя все элементы списка a и списка b.\n",
    "5. Создайте новый список с, который получается заменой последнего элемента списка a на число 100. Сам список a измениться не должен!"
   ]
  },
  {
   "cell_type": "code",
   "execution_count": 1,
   "metadata": {},
   "outputs": [],
   "source": [
    "a = [1, 0, 9, 12, 18, 34, 89, 91, 33, 127]\n",
    "b = [2, 8, 9, 11, 76, 25, 44]"
   ]
  },
  {
   "cell_type": "markdown",
   "metadata": {},
   "source": [
    "## Задача 2\n",
    "\n",
    "Дан список student. Выполните пункты ниже. Все выводы должны быть в формате \"Средний балл студента: {средний балл}\"\n",
    "\n",
    "1. Выведите фамилию и имя Ивана в формате \"Студент: {Фамилия}, {Имя}\"\n",
    "2. Выведите возраст Ивана, если сейчас 2020 год.\n",
    "2. Напечатайте оценки Ивана через запятую.\n",
    "2. Найдите средний балл Ивана, если оценки хранятся в списке внутри кортежа. Сумму элементов списка можно найти с помощью функции sum().\n",
    "3. Выведите средний балл."
   ]
  },
  {
   "cell_type": "code",
   "execution_count": 3,
   "metadata": {},
   "outputs": [],
   "source": [
    "student = ('Иван Питонов', 2001, [8, 7, 7, 9, 6], True)"
   ]
  },
  {
   "cell_type": "markdown",
   "metadata": {},
   "source": [
    "## Задача 3\n",
    "\n",
    "Несмещенная дисперсия считается по следующей формуле\n",
    "\n",
    "$$\n",
    "\\hat{\\sigma} = \\frac{\\sum_{i=1}^{n}(x_i - \\bar{x})^2}{n-1}\n",
    "$$\n",
    "\n",
    "Расчитайте несмещенную выборочную дисперсию для списка `a`"
   ]
  },
  {
   "cell_type": "code",
   "execution_count": null,
   "metadata": {},
   "outputs": [],
   "source": []
  },
  {
   "cell_type": "markdown",
   "metadata": {},
   "source": [
    "## Задача 4\n",
    "Объясните, что делает следующий код и почему он выдает такие результаты:"
   ]
  },
  {
   "cell_type": "code",
   "execution_count": 6,
   "metadata": {},
   "outputs": [
    {
     "name": "stdout",
     "output_type": "stream",
     "text": [
      "5\n",
      "3\n",
      "5\n",
      "7\n"
     ]
    }
   ],
   "source": [
    "l = [1,2,3,4]\n",
    "\n",
    "for i in range(len(l)):\n",
    "    a = l[i] + l[i-1]\n",
    "    print(a)"
   ]
  },
  {
   "cell_type": "markdown",
   "metadata": {},
   "source": [
    "## Задача 5\n",
    "\n",
    "В списке ``age`` сохранены значения возраста респондентов:\n",
    "\n",
    "```age = [24, 35, 42, 27, 45, 48, 33]```\n",
    "\n",
    "Создайте список ``age2``, в котором будут храниться значения возраста, возведенные в квадрат."
   ]
  },
  {
   "cell_type": "code",
   "execution_count": null,
   "metadata": {},
   "outputs": [],
   "source": []
  },
  {
   "cell_type": "markdown",
   "metadata": {},
   "source": [
    "## Задача 6\n",
    "\n",
    "Напишите программу, которая на ввод запрашивает у пользователя слово, и возвращает `True`, если слово является палиндромом и `False` в противном случае. Палиндром — это слово или фраза, которые одинаково читаются слева направо и справа налево."
   ]
  },
  {
   "cell_type": "code",
   "execution_count": null,
   "metadata": {},
   "outputs": [],
   "source": []
  },
  {
   "cell_type": "code",
   "execution_count": null,
   "metadata": {},
   "outputs": [],
   "source": []
  }
 ],
 "metadata": {
  "kernelspec": {
   "display_name": "Python 3",
   "language": "python",
   "name": "python3"
  },
  "language_info": {
   "codemirror_mode": {
    "name": "ipython",
    "version": 3
   },
   "file_extension": ".py",
   "mimetype": "text/x-python",
   "name": "python",
   "nbconvert_exporter": "python",
   "pygments_lexer": "ipython3",
   "version": "3.7.6"
  }
 },
 "nbformat": 4,
 "nbformat_minor": 4
}
